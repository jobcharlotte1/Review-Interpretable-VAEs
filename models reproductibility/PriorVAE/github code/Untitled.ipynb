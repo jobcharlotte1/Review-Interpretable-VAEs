{
 "cells": [
  {
   "cell_type": "code",
   "execution_count": 9,
   "id": "60bddae4-5767-4d93-8157-2045b8a3e4ac",
   "metadata": {
    "tags": []
   },
   "outputs": [],
   "source": [
    "import pandas as pd\n",
    "import numpy as np\n",
    "import json\n",
    "import pickle\n",
    "import seaborn as sns\n",
    "from matplotlib import pyplot as plt\n",
    "import random\n",
    "from sklearn.model_selection import train_test_split\n",
    "import anndata as ad\n",
    "import scanpy as sc\n",
    "import sys\n",
    "import os\n",
    "import torch\n",
    "import torch.optim as optim\n",
    "from torch.utils.data import DataLoader, TensorDataset\n",
    "import torch.nn as nn\n",
    "import torch.nn.functional as F\n",
    "from sklearn.preprocessing import MinMaxScaler\n",
    "import time\n",
    "from sklearn.metrics import mean_squared_error\n",
    "import scipy.stats\n",
    "from sklearn.manifold import TSNE\n",
    "from sklearn.linear_model import LogisticRegression\n",
    "from sklearn.model_selection import train_test_split\n",
    "from sklearn.metrics import classification_report\n",
    "from sklearn.model_selection import cross_validate\n",
    "from anndata import AnnData"
   ]
  },
  {
   "cell_type": "code",
   "execution_count": 2,
   "id": "32338732-553a-48da-a48c-687b8bce4cf5",
   "metadata": {
    "tags": []
   },
   "outputs": [
    {
     "name": "stdout",
     "output_type": "stream",
     "text": [
      "Requirement already satisfied: pandas in /home/BS94_SUR/conda_env/new_env_VEGA_1/lib/python3.7/site-packages (1.1.5)\n",
      "Requirement already satisfied: matplotlib in /home/BS94_SUR/conda_env/new_env_VEGA_1/lib/python3.7/site-packages (3.5.3)\n",
      "Requirement already satisfied: datashader in /home/BS94_SUR/conda_env/new_env_VEGA_1/lib/python3.7/site-packages (0.14.4)\n",
      "Requirement already satisfied: bokeh in /home/BS94_SUR/conda_env/new_env_VEGA_1/lib/python3.7/site-packages (2.4.3)\n",
      "Requirement already satisfied: holoviews in /home/BS94_SUR/conda_env/new_env_VEGA_1/lib/python3.7/site-packages (1.16.2)\n",
      "Requirement already satisfied: scikit-image in /home/BS94_SUR/conda_env/new_env_VEGA_1/lib/python3.7/site-packages (0.19.3)\n",
      "Requirement already satisfied: colorcet in /home/BS94_SUR/conda_env/new_env_VEGA_1/lib/python3.7/site-packages (3.1.0)\n",
      "Requirement already satisfied: python-dateutil>=2.7.3 in /home/BS94_SUR/conda_env/new_env_VEGA_1/lib/python3.7/site-packages (from pandas) (2.9.0)\n",
      "Requirement already satisfied: pytz>=2017.2 in /home/BS94_SUR/conda_env/new_env_VEGA_1/lib/python3.7/site-packages (from pandas) (2025.2)\n",
      "Requirement already satisfied: numpy>=1.15.4 in /home/BS94_SUR/conda_env/new_env_VEGA_1/lib/python3.7/site-packages (from pandas) (1.21.6)\n",
      "Requirement already satisfied: cycler>=0.10 in /home/BS94_SUR/conda_env/new_env_VEGA_1/lib/python3.7/site-packages (from matplotlib) (0.11.0)\n",
      "Requirement already satisfied: fonttools>=4.22.0 in /home/BS94_SUR/conda_env/new_env_VEGA_1/lib/python3.7/site-packages (from matplotlib) (4.38.0)\n",
      "Requirement already satisfied: kiwisolver>=1.0.1 in /home/BS94_SUR/conda_env/new_env_VEGA_1/lib/python3.7/site-packages (from matplotlib) (1.4.5)\n",
      "Requirement already satisfied: packaging>=20.0 in /home/BS94_SUR/conda_env/new_env_VEGA_1/lib/python3.7/site-packages (from matplotlib) (23.2)\n",
      "Requirement already satisfied: pillow>=6.2.0 in /home/BS94_SUR/conda_env/new_env_VEGA_1/lib/python3.7/site-packages (from matplotlib) (9.5.0)\n",
      "Requirement already satisfied: pyparsing>=2.2.1 in /home/BS94_SUR/conda_env/new_env_VEGA_1/lib/python3.7/site-packages (from matplotlib) (3.1.4)\n",
      "Requirement already satisfied: dask in /home/BS94_SUR/conda_env/new_env_VEGA_1/lib/python3.7/site-packages (from datashader) (2022.2.0)\n",
      "Requirement already satisfied: datashape in /home/BS94_SUR/conda_env/new_env_VEGA_1/lib/python3.7/site-packages (from datashader) (0.5.2)\n",
      "Requirement already satisfied: numba>=0.51 in /home/BS94_SUR/conda_env/new_env_VEGA_1/lib/python3.7/site-packages (from datashader) (0.56.4)\n",
      "Requirement already satisfied: param in /home/BS94_SUR/conda_env/new_env_VEGA_1/lib/python3.7/site-packages (from datashader) (1.13.0)\n",
      "Requirement already satisfied: pyct in /home/BS94_SUR/conda_env/new_env_VEGA_1/lib/python3.7/site-packages (from datashader) (0.5.0)\n",
      "Requirement already satisfied: requests in /home/BS94_SUR/conda_env/new_env_VEGA_1/lib/python3.7/site-packages (from datashader) (2.31.0)\n",
      "Requirement already satisfied: scipy in /home/BS94_SUR/conda_env/new_env_VEGA_1/lib/python3.7/site-packages (from datashader) (1.7.3)\n",
      "Requirement already satisfied: toolz in /home/BS94_SUR/conda_env/new_env_VEGA_1/lib/python3.7/site-packages (from datashader) (0.12.1)\n",
      "Requirement already satisfied: xarray in /home/BS94_SUR/conda_env/new_env_VEGA_1/lib/python3.7/site-packages (from datashader) (0.20.2)\n",
      "Requirement already satisfied: Jinja2>=2.9 in /home/BS94_SUR/conda_env/new_env_VEGA_1/lib/python3.7/site-packages (from bokeh) (3.1.6)\n",
      "Requirement already satisfied: PyYAML>=3.10 in /home/BS94_SUR/conda_env/new_env_VEGA_1/lib/python3.7/site-packages (from bokeh) (6.0.1)\n",
      "Requirement already satisfied: tornado>=5.1 in /home/BS94_SUR/conda_env/new_env_VEGA_1/lib/python3.7/site-packages (from bokeh) (6.2)\n",
      "Requirement already satisfied: typing-extensions>=3.10.0 in /home/BS94_SUR/conda_env/new_env_VEGA_1/lib/python3.7/site-packages (from bokeh) (4.7.1)\n",
      "Requirement already satisfied: pyviz-comms>=0.7.4 in /home/BS94_SUR/conda_env/new_env_VEGA_1/lib/python3.7/site-packages (from holoviews) (2.3.2)\n",
      "Requirement already satisfied: panel>=0.13.1 in /home/BS94_SUR/conda_env/new_env_VEGA_1/lib/python3.7/site-packages (from holoviews) (0.14.4)\n",
      "Requirement already satisfied: networkx>=2.2 in /home/BS94_SUR/conda_env/new_env_VEGA_1/lib/python3.7/site-packages (from scikit-image) (2.6.3)\n",
      "Requirement already satisfied: imageio>=2.4.1 in /home/BS94_SUR/conda_env/new_env_VEGA_1/lib/python3.7/site-packages (from scikit-image) (2.31.2)\n",
      "Requirement already satisfied: tifffile>=2019.7.26 in /home/BS94_SUR/conda_env/new_env_VEGA_1/lib/python3.7/site-packages (from scikit-image) (2021.11.2)\n",
      "Requirement already satisfied: PyWavelets>=1.1.1 in /home/BS94_SUR/conda_env/new_env_VEGA_1/lib/python3.7/site-packages (from scikit-image) (1.3.0)\n",
      "Requirement already satisfied: MarkupSafe>=2.0 in /home/BS94_SUR/conda_env/new_env_VEGA_1/lib/python3.7/site-packages (from Jinja2>=2.9->bokeh) (2.1.5)\n",
      "Requirement already satisfied: llvmlite<0.40,>=0.39.0dev0 in /home/BS94_SUR/conda_env/new_env_VEGA_1/lib/python3.7/site-packages (from numba>=0.51->datashader) (0.39.1)\n",
      "Requirement already satisfied: setuptools in /home/BS94_SUR/conda_env/new_env_VEGA_1/lib/python3.7/site-packages (from numba>=0.51->datashader) (59.5.0)\n",
      "Requirement already satisfied: importlib-metadata in /home/BS94_SUR/conda_env/new_env_VEGA_1/lib/python3.7/site-packages (from numba>=0.51->datashader) (6.7.0)\n",
      "Requirement already satisfied: markdown in /home/BS94_SUR/conda_env/new_env_VEGA_1/lib/python3.7/site-packages (from panel>=0.13.1->holoviews) (3.3.4)\n",
      "Requirement already satisfied: tqdm>=4.48.0 in /home/BS94_SUR/conda_env/new_env_VEGA_1/lib/python3.7/site-packages (from panel>=0.13.1->holoviews) (4.67.1)\n",
      "Requirement already satisfied: bleach in /home/BS94_SUR/conda_env/new_env_VEGA_1/lib/python3.7/site-packages (from panel>=0.13.1->holoviews) (6.0.0)\n",
      "Requirement already satisfied: six>=1.5 in /home/BS94_SUR/conda_env/new_env_VEGA_1/lib/python3.7/site-packages (from python-dateutil>=2.7.3->pandas) (1.16.0)\n",
      "Requirement already satisfied: cloudpickle>=1.1.1 in /home/BS94_SUR/conda_env/new_env_VEGA_1/lib/python3.7/site-packages (from dask->datashader) (2.2.1)\n",
      "Requirement already satisfied: fsspec>=0.6.0 in /home/BS94_SUR/conda_env/new_env_VEGA_1/lib/python3.7/site-packages (from dask->datashader) (2023.1.0)\n",
      "Requirement already satisfied: partd>=0.3.10 in /home/BS94_SUR/conda_env/new_env_VEGA_1/lib/python3.7/site-packages (from dask->datashader) (1.4.1)\n",
      "Requirement already satisfied: multipledispatch>=0.4.7 in /home/BS94_SUR/conda_env/new_env_VEGA_1/lib/python3.7/site-packages (from datashape->datashader) (1.0.0)\n",
      "Requirement already satisfied: charset-normalizer<4,>=2 in /home/BS94_SUR/conda_env/new_env_VEGA_1/lib/python3.7/site-packages (from requests->datashader) (3.4.1)\n",
      "Requirement already satisfied: idna<4,>=2.5 in /home/BS94_SUR/conda_env/new_env_VEGA_1/lib/python3.7/site-packages (from requests->datashader) (3.10)\n",
      "Requirement already satisfied: urllib3<3,>=1.21.1 in /home/BS94_SUR/conda_env/new_env_VEGA_1/lib/python3.7/site-packages (from requests->datashader) (2.0.7)\n",
      "Requirement already satisfied: certifi>=2017.4.17 in /home/BS94_SUR/conda_env/new_env_VEGA_1/lib/python3.7/site-packages (from requests->datashader) (2025.1.31)\n",
      "Requirement already satisfied: locket in /home/BS94_SUR/conda_env/new_env_VEGA_1/lib/python3.7/site-packages (from partd>=0.3.10->dask->datashader) (1.0.0)\n",
      "Requirement already satisfied: webencodings in /home/BS94_SUR/conda_env/new_env_VEGA_1/lib/python3.7/site-packages (from bleach->panel>=0.13.1->holoviews) (0.5.1)\n",
      "Requirement already satisfied: zipp>=0.5 in /home/BS94_SUR/conda_env/new_env_VEGA_1/lib/python3.7/site-packages (from importlib-metadata->numba>=0.51->datashader) (3.15.0)\n",
      "Note: you may need to restart the kernel to use updated packages.\n"
     ]
    }
   ],
   "source": [
    "pip install pandas matplotlib datashader bokeh holoviews scikit-image colorcet\n"
   ]
  },
  {
   "cell_type": "code",
   "execution_count": 20,
   "id": "d777ce25-3763-4b72-a57a-d7c69dea6992",
   "metadata": {
    "tags": []
   },
   "outputs": [],
   "source": [
    "sys.path.append('/home/BS94_SUR/phD/review/models reproductibility/PriorVAE/github code')\n",
    "import simpleVAE\n",
    "import priorVAE\n",
    "import utils\n",
    "import Reconstruction_performance_metrics\n",
    "from priorVAE import *\n",
    "from simpleVAE import Encoder, Decoder, simpleVAE\n",
    "from utils import EarlyStopping, LRScheduler\n",
    "from Reconstruction_performance_metrics import calculate_sample_wise_correlation_numpy, calculate_overall_reconstruction_each_model, calculate_overall_reconstruction_each_model_detailed_info, input_reconstruction_pairwise_correlation_plot, input_reconstruction_pairwise_correlation_with_annotation_labels"
   ]
  },
  {
   "cell_type": "code",
   "execution_count": 10,
   "id": "dc4254a7-74b8-4174-ae81-e79047862c6c",
   "metadata": {
    "tags": []
   },
   "outputs": [],
   "source": [
    "def extract_x_y_from_adata(adata: AnnData, labels: pd.Series):\n",
    "    X = pd.DataFrame(adata.X, index=adata.obs.index)\n",
    "    y = adata.obs[labels]\n",
    "    return X, y\n",
    "\n",
    "def split_data(adata: AnnData, column_name: str, train_size: float = 0.8):\n",
    "    X, y = extract_x_y_from_adata(adata, column_name)\n",
    "    X_train,  X_test, labels_train,  labels_test = train_test_split(\n",
    "        X, y, train_size=train_size, random_state=42, stratify=y)\n",
    "    return X_train,  X_test, labels_train,  labels_test\n",
    "\n",
    "def extract_index(X: np.ndarray):\n",
    "    index_df = X.index\n",
    "    return index_df\n",
    "\n",
    "def build_adata_from_X(X: np.ndarray, adata: AnnData):\n",
    "    index_df = extract_index(X)\n",
    "    adata = adata[adata.obs.index.isin(index_df)]\n",
    "    return adata, index_df\n",
    "\n",
    "def encode_y(labels):\n",
    "    le = preprocessing.LabelEncoder().fit(labels)\n",
    "    y = torch.Tensor(le.transform(labels))\n",
    "    return y"
   ]
  },
  {
   "cell_type": "code",
   "execution_count": 11,
   "id": "bc098c7e-663c-4042-8227-1e069979941a",
   "metadata": {
    "tags": []
   },
   "outputs": [
    {
     "data": {
      "text/plain": [
       "AnnData object with n_obs × n_vars = 13576 × 979\n",
       "    obs: 'orig.ident', 'nCount_RNA', 'nFeature_RNA', 'stim', 'seurat_annotations', 'integrated_snn_res.0.5', 'seurat_clusters', 'condition', 'cell_type', 'INTERFERON_SIGNALING', 'INTERFERON_GAMMA_SIGNALING'\n",
       "    uns: 'condition_colors', 'terms'\n",
       "    obsm: 'X_latent'\n",
       "    varm: 'I'"
      ]
     },
     "execution_count": 11,
     "metadata": {},
     "output_type": "execute_result"
    }
   ],
   "source": [
    "data_path = '/home/BS94_SUR/phD/review/models reproductibility/pmvae/scripts/data/kang_count.h5ad'\n",
    "adata = sc.read_h5ad(data_path)\n",
    "adata"
   ]
  },
  {
   "cell_type": "code",
   "execution_count": 14,
   "id": "50d72142-57c8-4484-8d2b-476ab2dbcb98",
   "metadata": {
    "tags": []
   },
   "outputs": [
    {
     "name": "stdout",
     "output_type": "stream",
     "text": [
      "(12218, 979)\n",
      "(1358, 979)\n"
     ]
    }
   ],
   "source": [
    "column_name = 'condition'\n",
    "X, y = extract_x_y_from_adata(adata, column_name)\n",
    "X_train,  X_test, y_train,  y_test = train_test_split(\n",
    "    X, y, train_size=0.90, random_state=42, stratify=y)\n",
    "print(df_train.shape)\n",
    "print(df_test.shape)"
   ]
  },
  {
   "cell_type": "code",
   "execution_count": 16,
   "id": "454cbf36-b873-4266-9b0a-05914b2e19cc",
   "metadata": {
    "tags": []
   },
   "outputs": [],
   "source": [
    "n_features_trans = X_train.shape[1]\n",
    "n_inputs = X_train.shape[1]\n",
    "X_train = X_train.to_numpy()\n",
    "X_test = X_test.to_numpy()"
   ]
  },
  {
   "cell_type": "code",
   "execution_count": 19,
   "id": "a508feb4-d204-4136-a475-3f724b3de8b2",
   "metadata": {
    "tags": []
   },
   "outputs": [],
   "source": [
    "beta = 1\n",
    "batch_size = 128\n",
    "lr = 0.0001\n",
    "epochs = 300\n",
    "early_stopping = EarlyStopping()\n",
    "criterion = nn.MSELoss(reduction='sum')\n",
    "latent_dim = 50\n",
    "device = torch.device('cuda' if torch.cuda.is_available() else 'cpu')"
   ]
  },
  {
   "cell_type": "code",
   "execution_count": 24,
   "id": "257b93f8-1a97-45d9-b127-5242c1544b95",
   "metadata": {
    "tags": []
   },
   "outputs": [],
   "source": [
    "df_mean_direct = pd.DataFrame(columns=adata.var.index)\n",
    "df_sigma_direct = pd.DataFrame(columns=adata.var.index)\n",
    "df_mean_bootstrap = pd.DataFrame(columns=adata.var.index)\n",
    "df_sigma_bootstrap = pd.DataFrame(columns=adata.var.index)\n",
    "df_pvalues_mean = pd.DataFrame(columns=adata.var.index)"
   ]
  },
  {
   "cell_type": "code",
   "execution_count": null,
   "id": "ee7393fa-cdaa-4c6b-a528-dca4d3dea05f",
   "metadata": {},
   "outputs": [],
   "source": [
    "train_set = torch.Tensor(X_train[:,0:n_features_trans])\n",
    "test_set = torch.Tensor(X_test[:, 0:n_features_trans])\n",
    "train_set = TensorDataset(train_set, train_set)\n",
    "test_set = TensorDataset(test_set, test_set)\n",
    "train_loader = DataLoader(\n",
    "    train_set, batch_size=batch_size, shuffle=False)\n",
    "test_loader = DataLoader(\n",
    "    test_set, batch_size=batch_size, shuffle=False)\n",
    "model = priorVAE(n_inputs=n_inputs, n_features_path=, n_features_trans=nfeatures_trans).to(device)\n",
    "optimizer = optim.Adam(model.parameters(), lr=lr)\n",
    "lr_scheduler = LRScheduler(optimizer)\n",
    "print('my_xtest' + str(X_test.shape))"
   ]
  }
 ],
 "metadata": {
  "environment": {
   "kernel": "new_env_vega_1",
   "name": "workbench-notebooks.m127",
   "type": "gcloud",
   "uri": "us-docker.pkg.dev/deeplearning-platform-release/gcr.io/workbench-notebooks:m127"
  },
  "kernelspec": {
   "display_name": "new_env_VEGA_1",
   "language": "python",
   "name": "new_env_vega_1"
  },
  "language_info": {
   "codemirror_mode": {
    "name": "ipython",
    "version": 3
   },
   "file_extension": ".py",
   "mimetype": "text/x-python",
   "name": "python",
   "nbconvert_exporter": "python",
   "pygments_lexer": "ipython3",
   "version": "3.7.3"
  }
 },
 "nbformat": 4,
 "nbformat_minor": 5
}
